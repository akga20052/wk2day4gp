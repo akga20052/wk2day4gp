{
 "cells": [
  {
   "cell_type": "markdown",
   "metadata": {},
   "source": [
    "# Create a parking garage using the Object Oriented Programming(OOP)"
   ]
  },
  {
   "cell_type": "markdown",
   "metadata": {},
   "source": [
    "# Step one take Ticket steps:\n",
    "# A. Decrease the amount of tickets available by 1\n",
    "# B. Decrease the amount of parkingSpaces available by 1\n",
    "\n",
    "\n",
    "# Create parking garage attributes\n",
    "# Tickets -> list\n",
    "# ParkingSpaces -> list\n",
    "# CurrentTicket -> dictionary"
   ]
  },
  {
   "cell_type": "markdown",
   "metadata": {},
   "source": [
    "###### Provide name and approxamite line numbers where each person wrote their code\n",
    "# First part of the code: (the inital start)\n",
    "# Connie and Alejandra (Drivers)- Lines\n",
    "# Part one lines 1-9 \n",
    "# Part two lines 1 - 9 \n",
    "# Section three Lines 1-32"
   ]
  },
  {
   "cell_type": "markdown",
   "metadata": {},
   "source": [
    "# Start Your Code Here"
   ]
  },
  {
   "cell_type": "code",
   "execution_count": 23,
   "metadata": {},
   "outputs": [
    {
     "name": "stdout",
     "output_type": "stream",
     "text": [
      "Row: Row 1\n",
      "Spot: Spot 1\n",
      "Time: 10am\n",
      "Date: 9-9-23\n"
     ]
    }
   ],
   "source": [
    "# Parking Ticket for spot number 1-A\n",
    "\n",
    "class ParkingTicket:\n",
    "    def __init__(self, row, spot, time, date):\n",
    "        self.row = row\n",
    "        self.spot = spot\n",
    "        self.time = time\n",
    "        self.date = date\n",
    "\n",
    "def my_function(ticket):\n",
    "    print(\"Row:\", ticket.row)\n",
    "    print(\"Spot:\", ticket.spot)\n",
    "    print(\"Time:\", ticket.time)\n",
    "    print(\"Date:\", ticket.date)\n",
    "\n",
    "# Create a ParkingTicket object\n",
    "your_parking_ticket = ParkingTicket(\"Row 1\", \"Spot 1\", \"10am\", \"9-9-23\")\n",
    "\n",
    "# Call my_function and pass the ParkingTicket object\n",
    "my_function(your_parking_ticket)"
   ]
  },
  {
   "cell_type": "code",
   "execution_count": 24,
   "metadata": {},
   "outputs": [
    {
     "name": "stdout",
     "output_type": "stream",
     "text": [
      "Row: Row 1\n",
      "Spot: Spot 2\n",
      "Time: 11am\n",
      "Date: 9-9-23\n"
     ]
    }
   ],
   "source": [
    "# Parking Ticket for spot number 2-B\n",
    "\n",
    "class ParkingTicket:\n",
    "    def __init__(self, row, spot, time, date):\n",
    "        self.row = row\n",
    "        self.spot = spot\n",
    "        self.time = time\n",
    "        self.date = date\n",
    "\n",
    "    def print_ticket(self):\n",
    "        print(\"Row:\", self.row)\n",
    "        print(\"Spot:\", self.spot)\n",
    "        print(\"Time:\", self.time)\n",
    "        print(\"Date:\", self.date)\n",
    "\n",
    "# Create a ParkingTicket object\n",
    "your_parking_ticket = ParkingTicket(\"Row 1\", \"Spot 2\", \"11am\", \"9-9-23\")\n",
    "\n",
    "# Use the print_ticket method to print the ticket\n",
    "your_parking_ticket.print_ticket()    "
   ]
  },
  {
   "cell_type": "code",
   "execution_count": 26,
   "metadata": {},
   "outputs": [
    {
     "name": "stdout",
     "output_type": "stream",
     "text": [
      "Car parked in 1-A\n",
      "No available parking spots\n",
      "Car parked in 2-B\n"
     ]
    }
   ],
   "source": [
    "#If parking spot 1-A is taken then put car in 2-B, but if both spots are taken tell guest no parking spot available\n",
    "\n",
    "class ParkingSpot:\n",
    "    def __init__(self, spot_name):\n",
    "        self.spot_name = spot_name\n",
    "        self.is_taken = False\n",
    "\n",
    "    def take_spot(self):\n",
    "        self.is_taken = True\n",
    "\n",
    "    def vacate_spot(self):\n",
    "        self.is_taken = False\n",
    "\n",
    "    def is_available(self):\n",
    "        return not self.is_taken\n",
    "\n",
    "# Create parking spot objects\n",
    "spot_1A = ParkingSpot(\"1-A\")\n",
    "spot_2B = ParkingSpot(\"2-B\")\n",
    "\n",
    "# Simulate parking spot availability\n",
    "spot_2B.take_spot()  # Car parked in 2-B\n",
    "\n",
    "if not spot_1A.is_available() and spot_2B.is_available():\n",
    "    print(\"Car parked in\", spot_2B.spot_name)\n",
    "elif spot_1A.is_available() and not spot_2B.is_available():\n",
    "    print(\"Car parked in\", spot_1A.spot_name)\n",
    "else:\n",
    "    print(\"No available parking spots\")\n",
    "\n",
    "spot_1A.vacate_spot()  # Vacate 1-A\n",
    "spot_2B.vacate_spot()  # Vacate 2-B\n",
    "\n",
    "if not spot_1A.is_available() and spot_2B.is_available():\n",
    "    print(\"Car parked in\", spot_2B.spot_name)\n",
    "elif spot_1A.is_available() and not spot_2B.is_available():\n",
    "    print(\"Car parked in\", spot_1A.spot_name)\n",
    "else:\n",
    "    print(\"No available parking spots\")\n",
    "\n",
    "spot_1A.take_spot()  # Car parked in 1-A\n",
    "\n",
    "if not spot_1A.is_available() and spot_2B.is_available():\n",
    "    print(\"Car parked in\", spot_2B.spot_name)\n",
    "elif spot_1A.is_available() and not spot_2B.is_available():\n",
    "    print(\"Car parked in\", spot_1A.spot_name)\n",
    "else:\n",
    "    print(\"No available parking spots\")"
   ]
  }
 ],
 "metadata": {
  "kernelspec": {
   "display_name": "base",
   "language": "python",
   "name": "python3"
  },
  "language_info": {
   "codemirror_mode": {
    "name": "ipython",
    "version": 3
   },
   "file_extension": ".py",
   "mimetype": "text/x-python",
   "name": "python",
   "nbconvert_exporter": "python",
   "pygments_lexer": "ipython3",
   "version": "3.9.7"
  },
  "orig_nbformat": 4
 },
 "nbformat": 4,
 "nbformat_minor": 2
}
