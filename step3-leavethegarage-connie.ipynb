{
 "cells": [
  {
   "cell_type": "markdown",
   "metadata": {},
   "source": [
    "# Create a parking garage using the Object Oriented Programming(OOP)"
   ]
  },
  {
   "cell_type": "markdown",
   "metadata": {},
   "source": [
    "# Step three leave the garage:\n",
    "# A. If the ticket has been paid, display a message of \"Thank You, have a nice day\"\n",
    "# B. If the ticket has not been paid, display an input prompt for payment\n",
    "# C. Once paid, display message \"Thank you, have a nice day!\"\n",
    "# D. Update parkingSpaces list to increase by 1 (meaning add to the parkingSpaces list).\n",
    "# E. Update tickets list to increase by 1 (meaning add to the tickets list)\n",
    "\n",
    "# Create parking garage attributes\n",
    "# Tickets -> list\n",
    "# ParkingSpaces -> list\n",
    "# CurrentTicket -> dictionary"
   ]
  },
  {
   "cell_type": "markdown",
   "metadata": {},
   "source": [
    "###### Provide name and approxamite line numbers where each person wrote their code\n",
    "# Fourth part of the code: (leave the garage):\n",
    "# Connie (Driver) line-\n",
    "# Section one- lines 1-50\n",
    "# Section two- lines 1-48\n",
    "# Section three- 1-16\n",
    "# Section four- 1-9\n",
    "# Section five- 1-15\n",
    "\n",
    "\n",
    "# Alejandra (Navigator)- NO code write from this person "
   ]
  },
  {
   "cell_type": "markdown",
   "metadata": {},
   "source": [
    "# Start Your Code Here"
   ]
  },
  {
   "cell_type": "code",
   "execution_count": 6,
   "metadata": {},
   "outputs": [
    {
     "name": "stdout",
     "output_type": "stream",
     "text": [
      "----------------Parking Rate-------------------\n",
      "Two Hours : $4.00\n",
      "Four Hours: $3.00\n",
      "Each Additional Hours: $1.00\n",
      "Lost Ticket Charge: $36.00\n",
      "---------------------Your Parking Ticket-----------------------------------\n",
      "Row 1\n",
      "Spot 1\n",
      "10am\n",
      "9-9-23\n",
      "----------The parking fee for 5 hours is $4.00---------\n",
      "Your Parking Ticket Has Been Paid IN FULL\n",
      "Please Leave In The Next 15 Mintues OR Additional Fee Will Apply\n",
      "------------------------------------------------------\n",
      "----------------Thank You, Have a Nice Day---------------------\n"
     ]
    }
   ],
   "source": [
    "#Parking Fees for parking in our garage for spot 1-A\n",
    "\n",
    "ParkingRate = {\"Two Hours\" : 4.00,\n",
    "               \"Four Hours\" : 3.00,\n",
    "               \"Each Additional Hours\" : 1.00,\n",
    "               \"Lost Ticket Charge\" : 36.00,}\n",
    "print(\"----------------Parking Rate-------------------\")\n",
    "for key, value in ParkingRate.items():\n",
    "    print(f\"{key:10}: ${value:.2f}\")\n",
    "\n",
    "# Parking Ticket for spot number 1-A\n",
    "\n",
    "print(\"---------------------Your Parking Ticket-----------------------------------\")\n",
    "def my_function(YourParkingTicket):\n",
    "    for x in YourParkingTicket:\n",
    "        print(x)\n",
    "\n",
    "YourParkingTicket = [\"Row 1\", \"Spot 1\",\"10am\", \"9-9-23\"]\n",
    "\n",
    "my_function(YourParkingTicket)\n",
    "\n",
    "# Parking Fees for the Spot 1-A after they leave the garage\n",
    "\n",
    "# F1= Two Hours\n",
    "# F2= Four Hour\n",
    "# F3= Each Additional Hours\n",
    "# F4= Lost Ticket Charge\n",
    "\n",
    "f1 = 4.00\n",
    "f2 = 3.00\n",
    "f3 = 1.00\n",
    "f4 = 36.00\n",
    "\n",
    "def calculate_parking_fee(hours_parked):\n",
    "    if hours_parked <= 2:\n",
    "        return f1\n",
    "    elif hours_parked <=4:\n",
    "        return f2\n",
    "    else:\n",
    "        additional_hours = hours_parked - 4\n",
    "        return f2 + additional_hours * f3\n",
    "\n",
    "hours_parked = 5\n",
    "total_fee = calculate_parking_fee(hours_parked)\n",
    "\n",
    "print(f\"----------The parking fee for {hours_parked} hours is ${total_fee:.2f}---------\")\n",
    "print(\"Your Parking Ticket Has Been Paid IN FULL\")\n",
    "print(\"Please Leave In The Next 15 Mintues OR Additional Fee Will Apply\")\n",
    "print(\"------------------------------------------------------\")\n",
    "print(\"----------------Thank You, Have a Nice Day---------------------\")"
   ]
  },
  {
   "cell_type": "code",
   "execution_count": 12,
   "metadata": {},
   "outputs": [
    {
     "name": "stdout",
     "output_type": "stream",
     "text": [
      "----------------Parking Rate-------------------\n",
      "Two Hours : $4.00\n",
      "Four Hours: $3.00\n",
      "Each Additional Hours: $1.00\n",
      "Lost Ticket Charge: $36.00\n",
      "---------------------Your Parking Ticket-----------------------------------\n",
      "Row 1\n",
      "Spot 2\n",
      "11am\n",
      "9-9-23\n",
      "---------The parking fee for 8 hours is $40.00--------\n",
      "Your Parking Ticket Has Been NOT Paid IN FULL\n"
     ]
    }
   ],
   "source": [
    "#Parking Fees for parking in our garage for spot 2-B\n",
    "\n",
    "ParkingRate = {\"Two Hours\" : 4.00,\n",
    "               \"Four Hours\" : 3.00,\n",
    "               \"Each Additional Hours\" : 1.00,\n",
    "               \"Lost Ticket Charge\" : 36.00,}\n",
    "\n",
    "print(\"----------------Parking Rate-------------------\")\n",
    "for key, value in ParkingRate.items():\n",
    "    print(f\"{key:10}: ${value:.2f}\")\n",
    "\n",
    "# Parking Ticket for spot number 1-A\n",
    "\n",
    "print(\"---------------------Your Parking Ticket-----------------------------------\")\n",
    "def my_function(YourParkingTicket):\n",
    "    for x in YourParkingTicket:\n",
    "        print(x)\n",
    "\n",
    "YourParkingTicket = [\"Row 1\", \"Spot 2\",\"11am\", \"9-9-23\"]\n",
    "\n",
    "my_function(YourParkingTicket)\n",
    "\n",
    "# Parking Fees for the Spot 2-B after they leave the garage\n",
    "\n",
    "# F1= Two Hours\n",
    "# F2= Four Hour\n",
    "# F3= Each Additional Hours\n",
    "# F4= Lost Ticket Charge\n",
    "\n",
    "f1 = 4.00\n",
    "f2 = 3.00\n",
    "f3 = 1.00\n",
    "f4 = 36.00\n",
    "\n",
    "def calculate_parking_fee(hours_parked):\n",
    "    if hours_parked <= 2:\n",
    "        return f2\n",
    "    elif hours_parked <= 4:\n",
    "        return f2\n",
    "    else:\n",
    "        additional_hours = hours_parked - 4\n",
    "        return f4 + additional_hours * f3\n",
    "\n",
    "hours_parked = 8\n",
    "total_fee = calculate_parking_fee(hours_parked)\n",
    "\n",
    "print(f\"---------The parking fee for {hours_parked} hours is ${total_fee:.2f}--------\")\n",
    "print(\"Your Parking Ticket Has Been NOT Paid IN FULL\")"
   ]
  },
  {
   "cell_type": "code",
   "execution_count": 11,
   "metadata": {},
   "outputs": [
    {
     "name": "stdout",
     "output_type": "stream",
     "text": [
      "---------------------Your Parking Ticket-----------------------------------\n",
      "Row 1\n",
      "Spot 2\n",
      "11am\n",
      "9-9-23\n",
      "---------The parking fee for 8 hours is $40.00--------\n",
      "Your Parking Ticket Has Been Paid IN FULL\n",
      "Please Leave In The Next 15 Mintues OR Additional Fee Will Apply\n",
      "------------------------------------------------------\n",
      "----------------Thank You, Have a Nice Day---------------------\n"
     ]
    }
   ],
   "source": [
    "# Guest in Spot 2B has paid ticket in full\n",
    "\n",
    "print(\"---------------------Your Parking Ticket-----------------------------------\")\n",
    "def my_function(YourParkingTicket):\n",
    "    for x in YourParkingTicket:\n",
    "        print(x)\n",
    "\n",
    "YourParkingTicket = [\"Row 1\", \"Spot 2\",\"11am\", \"9-9-23\"]\n",
    "\n",
    "my_function(YourParkingTicket)\n",
    "\n",
    "print(f\"---------The parking fee for {hours_parked} hours is ${total_fee:.2f}--------\")\n",
    "print(\"Your Parking Ticket Has Been Paid IN FULL\")\n",
    "print(\"Please Leave In The Next 15 Mintues OR Additional Fee Will Apply\")\n",
    "print(\"------------------------------------------------------\")\n",
    "print(\"----------------Thank You, Have a Nice Day---------------------\")"
   ]
  },
  {
   "cell_type": "code",
   "execution_count": 16,
   "metadata": {},
   "outputs": [
    {
     "name": "stdout",
     "output_type": "stream",
     "text": [
      "Row 1\n",
      "Spot 3\n",
      "3pm\n",
      "9-9-23\n"
     ]
    }
   ],
   "source": [
    "# Parking Ticket for adding another spot in our gargae spot number 3-C\n",
    "\n",
    "def my_function(YourParkingTicket):\n",
    "    for x in YourParkingTicket:\n",
    "        print(x)\n",
    "\n",
    "YourParkingTicket = [\"Row 1\", \"Spot 3\",\"3pm\", \"9-9-23\"]\n",
    "\n",
    "my_function(YourParkingTicket)"
   ]
  },
  {
   "cell_type": "code",
   "execution_count": 20,
   "metadata": {},
   "outputs": [
    {
     "name": "stdout",
     "output_type": "stream",
     "text": [
      "Car parked in 3-C\n"
     ]
    }
   ],
   "source": [
    "# Add another ticket because we added another parking spot in our garage \n",
    "\n",
    "spot_1A_taken = 0\n",
    "spot_2B_taken = 0\n",
    "spot_3C_taken = 1\n",
    "\n",
    "if spot_1A_taken == 0 and spot_2B_taken == 1:\n",
    "    print(\"Car parked in 2-B\")\n",
    "elif spot_1A_taken == 1 and spot_2B_taken == 0:\n",
    "    print(\"Car parked in 1-A\")\n",
    "elif spot_3C_taken == 1:\n",
    "    print(\"Car parked in 3-C\")\n",
    "else:\n",
    "    print(\"No available parking spots\")\n"
   ]
  }
 ],
 "metadata": {
  "kernelspec": {
   "display_name": "base",
   "language": "python",
   "name": "python3"
  },
  "language_info": {
   "codemirror_mode": {
    "name": "ipython",
    "version": 3
   },
   "file_extension": ".py",
   "mimetype": "text/x-python",
   "name": "python",
   "nbconvert_exporter": "python",
   "pygments_lexer": "ipython3",
   "version": "3.11.3"
  },
  "orig_nbformat": 4
 },
 "nbformat": 4,
 "nbformat_minor": 2
}
